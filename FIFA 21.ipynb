{
 "cells": [
  {
   "cell_type": "markdown",
   "id": "79e5c0da",
   "metadata": {},
   "source": [
    "# Importing All Important Liberies"
   ]
  },
  {
   "cell_type": "code",
   "execution_count": 12,
   "id": "6c0283e9",
   "metadata": {},
   "outputs": [],
   "source": [
    "import pandas as pd\n",
    "import numpy as np\n",
    "from matplotlib import pyplot as plt\n",
    "import seaborn as sb\n",
    "import warnings\n",
    "warnings.filterwarnings('ignore')"
   ]
  },
  {
   "cell_type": "markdown",
   "id": "90856491",
   "metadata": {},
   "source": [
    "# Importing DataFrame"
   ]
  },
  {
   "cell_type": "code",
   "execution_count": 86,
   "id": "f6cda553",
   "metadata": {},
   "outputs": [],
   "source": [
    "df=pd.read_csv('fifa21.csv')"
   ]
  },
  {
   "cell_type": "markdown",
   "id": "d8b9b5b9",
   "metadata": {},
   "source": [
    "# Creating a 5-digit random number for Wage(Salary) column & Save Again"
   ]
  },
  {
   "cell_type": "code",
   "execution_count": 87,
   "id": "a49fdd48",
   "metadata": {},
   "outputs": [],
   "source": [
    "# create 5-digit random number\n",
    "df['Wage']=np.random.randint(1,100000,size=len(df))\n",
    "\n",
    "# Save the updated DataFrame back to a Orignal Excel file\n",
    "df.to_csv('fifa21.csv', index=False)\n"
   ]
  },
  {
   "cell_type": "markdown",
   "id": "97ba46ef",
   "metadata": {},
   "source": [
    "# Display Top 5 Rows from the dataframe"
   ]
  },
  {
   "cell_type": "code",
   "execution_count": 84,
   "id": "4dcb6300",
   "metadata": {},
   "outputs": [
    {
     "data": {
      "text/html": [
       "<div>\n",
       "<style scoped>\n",
       "    .dataframe tbody tr th:only-of-type {\n",
       "        vertical-align: middle;\n",
       "    }\n",
       "\n",
       "    .dataframe tbody tr th {\n",
       "        vertical-align: top;\n",
       "    }\n",
       "\n",
       "    .dataframe thead th {\n",
       "        text-align: right;\n",
       "    }\n",
       "</style>\n",
       "<table border=\"1\" class=\"dataframe\">\n",
       "  <thead>\n",
       "    <tr style=\"text-align: right;\">\n",
       "      <th></th>\n",
       "      <th>ID</th>\n",
       "      <th>Name</th>\n",
       "      <th>Age</th>\n",
       "      <th>OVA</th>\n",
       "      <th>Nationality</th>\n",
       "      <th>Club</th>\n",
       "      <th>BOV</th>\n",
       "      <th>BP</th>\n",
       "      <th>Position</th>\n",
       "      <th>Player Photo</th>\n",
       "      <th>...</th>\n",
       "      <th>CDM</th>\n",
       "      <th>RDM</th>\n",
       "      <th>RWB</th>\n",
       "      <th>LB</th>\n",
       "      <th>LCB</th>\n",
       "      <th>CB</th>\n",
       "      <th>RCB</th>\n",
       "      <th>RB</th>\n",
       "      <th>GK</th>\n",
       "      <th>Gender</th>\n",
       "    </tr>\n",
       "  </thead>\n",
       "  <tbody>\n",
       "    <tr>\n",
       "      <th>0</th>\n",
       "      <td>2</td>\n",
       "      <td>G. Pasquale</td>\n",
       "      <td>33</td>\n",
       "      <td>69</td>\n",
       "      <td>Italy</td>\n",
       "      <td>Udinese</td>\n",
       "      <td>71</td>\n",
       "      <td>LWB</td>\n",
       "      <td>LM</td>\n",
       "      <td>https://cdn.sofifa.com/players/000/002/16_120.png</td>\n",
       "      <td>...</td>\n",
       "      <td>70+-1</td>\n",
       "      <td>70+-1</td>\n",
       "      <td>71+-2</td>\n",
       "      <td>70+-1</td>\n",
       "      <td>69+0</td>\n",
       "      <td>69+0</td>\n",
       "      <td>69+0</td>\n",
       "      <td>70+-1</td>\n",
       "      <td>17+0</td>\n",
       "      <td>Male</td>\n",
       "    </tr>\n",
       "    <tr>\n",
       "      <th>1</th>\n",
       "      <td>16</td>\n",
       "      <td>Luis García</td>\n",
       "      <td>37</td>\n",
       "      <td>71</td>\n",
       "      <td>Spain</td>\n",
       "      <td>KAS Eupen</td>\n",
       "      <td>70</td>\n",
       "      <td>CM</td>\n",
       "      <td>CM CAM CDM</td>\n",
       "      <td>https://cdn.sofifa.com/players/000/016/19_120.png</td>\n",
       "      <td>...</td>\n",
       "      <td>66+1</td>\n",
       "      <td>66+1</td>\n",
       "      <td>62+1</td>\n",
       "      <td>60+1</td>\n",
       "      <td>60+1</td>\n",
       "      <td>60+1</td>\n",
       "      <td>60+1</td>\n",
       "      <td>60+1</td>\n",
       "      <td>17+1</td>\n",
       "      <td>Male</td>\n",
       "    </tr>\n",
       "    <tr>\n",
       "      <th>2</th>\n",
       "      <td>27</td>\n",
       "      <td>J. Cole</td>\n",
       "      <td>33</td>\n",
       "      <td>71</td>\n",
       "      <td>England</td>\n",
       "      <td>Coventry City</td>\n",
       "      <td>71</td>\n",
       "      <td>CAM</td>\n",
       "      <td>CAM RM RW LM</td>\n",
       "      <td>https://cdn.sofifa.com/players/000/027/16_120.png</td>\n",
       "      <td>...</td>\n",
       "      <td>54+0</td>\n",
       "      <td>54+0</td>\n",
       "      <td>52+0</td>\n",
       "      <td>47+0</td>\n",
       "      <td>46+0</td>\n",
       "      <td>46+0</td>\n",
       "      <td>46+0</td>\n",
       "      <td>47+0</td>\n",
       "      <td>15+0</td>\n",
       "      <td>Male</td>\n",
       "    </tr>\n",
       "    <tr>\n",
       "      <th>3</th>\n",
       "      <td>36</td>\n",
       "      <td>D. Yorke</td>\n",
       "      <td>36</td>\n",
       "      <td>68</td>\n",
       "      <td>Trinidad &amp;amp; Tobago</td>\n",
       "      <td>Sunderland</td>\n",
       "      <td>70</td>\n",
       "      <td>ST</td>\n",
       "      <td>NaN</td>\n",
       "      <td>https://cdn.sofifa.com/players/000/036/09_120.png</td>\n",
       "      <td>...</td>\n",
       "      <td>65+0</td>\n",
       "      <td>65+0</td>\n",
       "      <td>56+0</td>\n",
       "      <td>57+0</td>\n",
       "      <td>51+0</td>\n",
       "      <td>51+0</td>\n",
       "      <td>51+0</td>\n",
       "      <td>57+0</td>\n",
       "      <td>22+0</td>\n",
       "      <td>Male</td>\n",
       "    </tr>\n",
       "    <tr>\n",
       "      <th>4</th>\n",
       "      <td>41</td>\n",
       "      <td>Iniesta</td>\n",
       "      <td>36</td>\n",
       "      <td>81</td>\n",
       "      <td>Spain</td>\n",
       "      <td>Vissel Kobe</td>\n",
       "      <td>82</td>\n",
       "      <td>CAM</td>\n",
       "      <td>CM CAM</td>\n",
       "      <td>https://cdn.sofifa.com/players/000/041/20_120.png</td>\n",
       "      <td>...</td>\n",
       "      <td>73+3</td>\n",
       "      <td>73+3</td>\n",
       "      <td>70+3</td>\n",
       "      <td>67+3</td>\n",
       "      <td>64+3</td>\n",
       "      <td>64+3</td>\n",
       "      <td>64+3</td>\n",
       "      <td>67+3</td>\n",
       "      <td>17+3</td>\n",
       "      <td>Male</td>\n",
       "    </tr>\n",
       "  </tbody>\n",
       "</table>\n",
       "<p>5 rows × 107 columns</p>\n",
       "</div>"
      ],
      "text/plain": [
       "   ID         Name  Age  OVA            Nationality           Club  BOV   BP  \\\n",
       "0   2  G. Pasquale   33   69                  Italy        Udinese   71  LWB   \n",
       "1  16  Luis García   37   71                  Spain      KAS Eupen   70   CM   \n",
       "2  27      J. Cole   33   71                England  Coventry City   71  CAM   \n",
       "3  36     D. Yorke   36   68  Trinidad &amp; Tobago     Sunderland   70   ST   \n",
       "4  41      Iniesta   36   81                  Spain    Vissel Kobe   82  CAM   \n",
       "\n",
       "       Position                                       Player Photo  ...  \\\n",
       "0            LM  https://cdn.sofifa.com/players/000/002/16_120.png  ...   \n",
       "1    CM CAM CDM  https://cdn.sofifa.com/players/000/016/19_120.png  ...   \n",
       "2  CAM RM RW LM  https://cdn.sofifa.com/players/000/027/16_120.png  ...   \n",
       "3           NaN  https://cdn.sofifa.com/players/000/036/09_120.png  ...   \n",
       "4        CM CAM  https://cdn.sofifa.com/players/000/041/20_120.png  ...   \n",
       "\n",
       "     CDM    RDM    RWB     LB   LCB    CB   RCB     RB    GK Gender  \n",
       "0  70+-1  70+-1  71+-2  70+-1  69+0  69+0  69+0  70+-1  17+0   Male  \n",
       "1   66+1   66+1   62+1   60+1  60+1  60+1  60+1   60+1  17+1   Male  \n",
       "2   54+0   54+0   52+0   47+0  46+0  46+0  46+0   47+0  15+0   Male  \n",
       "3   65+0   65+0   56+0   57+0  51+0  51+0  51+0   57+0  22+0   Male  \n",
       "4   73+3   73+3   70+3   67+3  64+3  64+3  64+3   67+3  17+3   Male  \n",
       "\n",
       "[5 rows x 107 columns]"
      ]
     },
     "execution_count": 84,
     "metadata": {},
     "output_type": "execute_result"
    }
   ],
   "source": [
    "df.head()"
   ]
  },
  {
   "cell_type": "code",
   "execution_count": 85,
   "id": "03a16017",
   "metadata": {},
   "outputs": [
    {
     "data": {
      "text/plain": [
       "(17125, 107)"
      ]
     },
     "execution_count": 85,
     "metadata": {},
     "output_type": "execute_result"
    }
   ],
   "source": [
    "df.shape"
   ]
  },
  {
   "cell_type": "markdown",
   "id": "70a0fcdd",
   "metadata": {},
   "source": [
    "# See the all columns present in the dataframe"
   ]
  },
  {
   "cell_type": "code",
   "execution_count": 13,
   "id": "08674f6c",
   "metadata": {},
   "outputs": [
    {
     "data": {
      "text/plain": [
       "Index(['ID', 'Name', 'Age', 'OVA', 'Nationality', 'Club', 'BOV', 'BP',\n",
       "       'Position', 'Player Photo',\n",
       "       ...\n",
       "       'CDM', 'RDM', 'RWB', 'LB', 'LCB', 'CB', 'RCB', 'RB', 'GK', 'Gender'],\n",
       "      dtype='object', length=107)"
      ]
     },
     "execution_count": 13,
     "metadata": {},
     "output_type": "execute_result"
    }
   ],
   "source": [
    "df.columns"
   ]
  },
  {
   "cell_type": "code",
   "execution_count": 24,
   "id": "bb6dd4de",
   "metadata": {},
   "outputs": [
    {
     "data": {
      "text/plain": [
       "Nationality\n",
       "England      1707\n",
       "Germany      1154\n",
       "Spain        1121\n",
       "France        990\n",
       "Brazil        857\n",
       "             ... \n",
       "Tanzania        1\n",
       "Singapore       1\n",
       "Eritrea         1\n",
       "Malta           1\n",
       "Barbados        1\n",
       "Name: count, Length: 167, dtype: int64"
      ]
     },
     "execution_count": 24,
     "metadata": {},
     "output_type": "execute_result"
    }
   ],
   "source": [
    "df['Nationality'].value_counts()"
   ]
  },
  {
   "cell_type": "markdown",
   "id": "fc880789",
   "metadata": {},
   "source": [
    "# To get top 10 Higest Countries & Plot a Bar chart"
   ]
  },
  {
   "cell_type": "code",
   "execution_count": 29,
   "id": "e7e37569",
   "metadata": {},
   "outputs": [
    {
     "data": {
      "text/plain": [
       "Nationality\n",
       "England          1707\n",
       "Germany          1154\n",
       "Spain            1121\n",
       "France            990\n",
       "Brazil            857\n",
       "Argentina         778\n",
       "Italy             565\n",
       "Netherlands       475\n",
       "Portugal          365\n",
       "United States     358\n",
       "Name: count, dtype: int64"
      ]
     },
     "execution_count": 29,
     "metadata": {},
     "output_type": "execute_result"
    }
   ],
   "source": [
    "df['Nationality'].value_counts()[0:10]"
   ]
  },
  {
   "cell_type": "code",
   "execution_count": 14,
   "id": "e45b0520",
   "metadata": {},
   "outputs": [
    {
     "data": {
      "image/png": "[encoded data removed]",
      "text/plain": [
       "<Figure size 1000x500 with 1 Axes>"
      ]
     },
     "metadata": {},
     "output_type": "display_data"
    }
   ],
   "source": [
    "plt.figure(figsize=(10,5))\n",
    "plt.title('Top 10 Countries')\n",
    "plt.bar(list(df['Nationality'].value_counts()[0:10].keys()),list(df['Nationality'].value_counts()[0:10]),color='#52CDE3')\n",
    "plt.show()"
   ]
  },
  {
   "cell_type": "markdown",
   "id": "c3736a1c",
   "metadata": {},
   "source": [
    "# Sort the Player list According to their Salaries "
   ]
  },
  {
   "cell_type": "code",
   "execution_count": 6,
   "id": "751f2da2",
   "metadata": {},
   "outputs": [
    {
     "data": {
      "text/html": [
       "<div>\n",
       "<style scoped>\n",
       "    .dataframe tbody tr th:only-of-type {\n",
       "        vertical-align: middle;\n",
       "    }\n",
       "\n",
       "    .dataframe tbody tr th {\n",
       "        vertical-align: top;\n",
       "    }\n",
       "\n",
       "    .dataframe thead th {\n",
       "        text-align: right;\n",
       "    }\n",
       "</style>\n",
       "<table border=\"1\" class=\"dataframe\">\n",
       "  <thead>\n",
       "    <tr style=\"text-align: right;\">\n",
       "      <th></th>\n",
       "      <th>ID</th>\n",
       "      <th>Name</th>\n",
       "      <th>Wage</th>\n",
       "    </tr>\n",
       "  </thead>\n",
       "  <tbody>\n",
       "    <tr>\n",
       "      <th>9984</th>\n",
       "      <td>234465</td>\n",
       "      <td>A. Araujo</td>\n",
       "      <td>99993</td>\n",
       "    </tr>\n",
       "    <tr>\n",
       "      <th>15702</th>\n",
       "      <td>254623</td>\n",
       "      <td>J. Piquerez</td>\n",
       "      <td>99984</td>\n",
       "    </tr>\n",
       "    <tr>\n",
       "      <th>9855</th>\n",
       "      <td>233960</td>\n",
       "      <td>L. Mühl</td>\n",
       "      <td>99968</td>\n",
       "    </tr>\n",
       "    <tr>\n",
       "      <th>4485</th>\n",
       "      <td>205145</td>\n",
       "      <td>S. Fraser</td>\n",
       "      <td>99963</td>\n",
       "    </tr>\n",
       "    <tr>\n",
       "      <th>10545</th>\n",
       "      <td>236492</td>\n",
       "      <td>Pedro Díaz</td>\n",
       "      <td>99955</td>\n",
       "    </tr>\n",
       "    <tr>\n",
       "      <th>5642</th>\n",
       "      <td>212218</td>\n",
       "      <td>A. Laporte</td>\n",
       "      <td>99947</td>\n",
       "    </tr>\n",
       "    <tr>\n",
       "      <th>9763</th>\n",
       "      <td>233544</td>\n",
       "      <td>K. Malinov</td>\n",
       "      <td>99942</td>\n",
       "    </tr>\n",
       "    <tr>\n",
       "      <th>7576</th>\n",
       "      <td>224132</td>\n",
       "      <td>D. Gómez</td>\n",
       "      <td>99938</td>\n",
       "    </tr>\n",
       "    <tr>\n",
       "      <th>3027</th>\n",
       "      <td>193862</td>\n",
       "      <td>André Pinto</td>\n",
       "      <td>99935</td>\n",
       "    </tr>\n",
       "    <tr>\n",
       "      <th>1935</th>\n",
       "      <td>184222</td>\n",
       "      <td>J. Rask</td>\n",
       "      <td>99928</td>\n",
       "    </tr>\n",
       "  </tbody>\n",
       "</table>\n",
       "</div>"
      ],
      "text/plain": [
       "           ID         Name   Wage\n",
       "9984   234465    A. Araujo  99993\n",
       "15702  254623  J. Piquerez  99984\n",
       "9855   233960      L. Mühl  99968\n",
       "4485   205145    S. Fraser  99963\n",
       "10545  236492   Pedro Díaz  99955\n",
       "5642   212218   A. Laporte  99947\n",
       "9763   233544   K. Malinov  99942\n",
       "7576   224132     D. Gómez  99938\n",
       "3027   193862  André Pinto  99935\n",
       "1935   184222      J. Rask  99928"
      ]
     },
     "execution_count": 6,
     "metadata": {},
     "output_type": "execute_result"
    }
   ],
   "source": [
    "player_salary = df[['ID', 'Name', 'Wage']]\n",
    "player_salary = player_salary.sort_values(by='Wage', ascending=False)\n",
    "player_salary.head(10)"
   ]
  },
  {
   "cell_type": "markdown",
   "id": "f6e8f76a",
   "metadata": {},
   "source": [
    "# Display the Bar Graph of 10 Random Players with their saleries. "
   ]
  },
  {
   "cell_type": "code",
   "execution_count": 111,
   "id": "02b6ad6e",
   "metadata": {},
   "outputs": [
    {
     "data": {
      "image/png": "[encoded data removed]",
      "text/plain": [
       "<Figure size 1500x700 with 1 Axes>"
      ]
     },
     "metadata": {},
     "output_type": "display_data"
    }
   ],
   "source": [
    "random_id=np.random.randint(0,len(df),size=10)\n",
    "random_name=df.loc[random_id,'Name']\n",
    "random_salary=df.loc[random_id,'Wage']\n",
    "\n",
    "plt.figure(figsize=(15,7))\n",
    "plt.title('Random player With Their Salary')\n",
    "plt.xlabel('Random Player Name')\n",
    "plt.ylabel('Random player Salary')\n",
    "\n",
    "plt.bar(random_name,random_salary,color='#5263E3')\n",
    "plt.show()"
   ]
  },
  {
   "cell_type": "markdown",
   "id": "5a6b49c4",
   "metadata": {},
   "source": [
    "# Analysis the Data only for Random 10 German countries"
   ]
  },
  {
   "cell_type": "code",
   "execution_count": 69,
   "id": "3eee4abf",
   "metadata": {},
   "outputs": [
    {
     "data": {
      "image/png": "[encoded data removed]",
      "text/plain": [
       "<Figure size 1500x700 with 1 Axes>"
      ]
     },
     "metadata": {},
     "output_type": "display_data"
    }
   ],
   "source": [
    "germany=df[df['Nationality']=='Germany']\n",
    "# germany=germany[['ID','Name','Wage']]\n",
    "# germany=germany.sort_values(by='Wage',ascending=False)\n",
    "# germany.reset_index(drop=True, inplace=True)\n",
    "germany_random_id=np.random.choice(germany.index,size=10,replace=True)\n",
    "germany_name=germany.loc[germany_random_id,'Name']\n",
    "germany_wage=germany.loc[germany_random_id,'Wage']\n",
    "\n",
    "plt.figure(figsize=(15,7))\n",
    "plt.title('10 Random German Countries')\n",
    "plt.xlabel('Countries Name')\n",
    "plt.ylabel('Salary')\n",
    "plt.bar(germany_name,germany_wage,color='#8876E5')\n",
    "plt.show()"
   ]
  },
  {
   "cell_type": "markdown",
   "id": "1421dd0c",
   "metadata": {},
   "source": [
    "# Converting the Date column into year, month and day Column"
   ]
  },
  {
   "cell_type": "code",
   "execution_count": 107,
   "id": "1a6e37be",
   "metadata": {},
   "outputs": [
    {
     "data": {
      "text/html": [
       "<div>\n",
       "<style scoped>\n",
       "    .dataframe tbody tr th:only-of-type {\n",
       "        vertical-align: middle;\n",
       "    }\n",
       "\n",
       "    .dataframe tbody tr th {\n",
       "        vertical-align: top;\n",
       "    }\n",
       "\n",
       "    .dataframe thead th {\n",
       "        text-align: right;\n",
       "    }\n",
       "</style>\n",
       "<table border=\"1\" class=\"dataframe\">\n",
       "  <thead>\n",
       "    <tr style=\"text-align: right;\">\n",
       "      <th></th>\n",
       "      <th>ID</th>\n",
       "      <th>Name</th>\n",
       "      <th>DOB</th>\n",
       "      <th>day</th>\n",
       "      <th>month</th>\n",
       "      <th>year</th>\n",
       "    </tr>\n",
       "  </thead>\n",
       "  <tbody>\n",
       "    <tr>\n",
       "      <th>0</th>\n",
       "      <td>2</td>\n",
       "      <td>G. Pasquale</td>\n",
       "      <td>2008-07-01</td>\n",
       "      <td>1</td>\n",
       "      <td>7</td>\n",
       "      <td>2008</td>\n",
       "    </tr>\n",
       "    <tr>\n",
       "      <th>1</th>\n",
       "      <td>16</td>\n",
       "      <td>Luis García</td>\n",
       "      <td>2014-07-19</td>\n",
       "      <td>19</td>\n",
       "      <td>7</td>\n",
       "      <td>2014</td>\n",
       "    </tr>\n",
       "    <tr>\n",
       "      <th>2</th>\n",
       "      <td>27</td>\n",
       "      <td>J. Cole</td>\n",
       "      <td>2016-01-07</td>\n",
       "      <td>7</td>\n",
       "      <td>1</td>\n",
       "      <td>2016</td>\n",
       "    </tr>\n",
       "    <tr>\n",
       "      <th>4</th>\n",
       "      <td>41</td>\n",
       "      <td>Iniesta</td>\n",
       "      <td>2018-07-16</td>\n",
       "      <td>16</td>\n",
       "      <td>7</td>\n",
       "      <td>2018</td>\n",
       "    </tr>\n",
       "    <tr>\n",
       "      <th>5</th>\n",
       "      <td>61</td>\n",
       "      <td>D. Odonkor</td>\n",
       "      <td>2011-01-01</td>\n",
       "      <td>1</td>\n",
       "      <td>1</td>\n",
       "      <td>2011</td>\n",
       "    </tr>\n",
       "  </tbody>\n",
       "</table>\n",
       "</div>"
      ],
      "text/plain": [
       "   ID         Name        DOB  day  month  year\n",
       "0   2  G. Pasquale 2008-07-01    1      7  2008\n",
       "1  16  Luis García 2014-07-19   19      7  2014\n",
       "2  27      J. Cole 2016-01-07    7      1  2016\n",
       "4  41      Iniesta 2018-07-16   16      7  2018\n",
       "5  61   D. Odonkor 2011-01-01    1      1  2011"
      ]
     },
     "execution_count": 107,
     "metadata": {},
     "output_type": "execute_result"
    }
   ],
   "source": [
    "#Remove Rows With Null DOB cell\n",
    "df = df[pd.notna(df['DOB'])]\n",
    "\n",
    "#Changing the Datatype of the DOB column \n",
    "df['DOB']=pd.to_datetime(df['DOB'])\n",
    "\n",
    "#Seprate the DOB column into day,month and year\n",
    "df['year']=df['DOB'].dt.year\n",
    "df['month']=df['DOB'].dt.month\n",
    "df['day']=df['DOB'].dt.day\n",
    "\n",
    "#Display the dataframe\n",
    "df[['ID','Name','DOB','day','month','year']].head()"
   ]
  },
  {
   "cell_type": "code",
   "execution_count": 123,
   "id": "c6d31910",
   "metadata": {},
   "outputs": [
    {
     "data": {
      "text/html": [
       "<div>\n",
       "<style scoped>\n",
       "    .dataframe tbody tr th:only-of-type {\n",
       "        vertical-align: middle;\n",
       "    }\n",
       "\n",
       "    .dataframe tbody tr th {\n",
       "        vertical-align: top;\n",
       "    }\n",
       "\n",
       "    .dataframe thead th {\n",
       "        text-align: right;\n",
       "    }\n",
       "</style>\n",
       "<table border=\"1\" class=\"dataframe\">\n",
       "  <thead>\n",
       "    <tr style=\"text-align: right;\">\n",
       "      <th></th>\n",
       "      <th>Team &amp; Contract</th>\n",
       "      <th>Team</th>\n",
       "      <th>Contract</th>\n",
       "    </tr>\n",
       "  </thead>\n",
       "  <tbody>\n",
       "    <tr>\n",
       "      <th>0</th>\n",
       "      <td>Udinese 2008 ~ 2016</td>\n",
       "      <td>Udinese</td>\n",
       "      <td>2008 ~ 2016</td>\n",
       "    </tr>\n",
       "    <tr>\n",
       "      <th>1</th>\n",
       "      <td>KAS Eupen 2014 ~ 2019</td>\n",
       "      <td>KAS Eupen</td>\n",
       "      <td>2014 ~ 2019</td>\n",
       "    </tr>\n",
       "    <tr>\n",
       "      <th>2</th>\n",
       "      <td>Coventry City 2016 ~ 2020</td>\n",
       "      <td>Coventry City</td>\n",
       "      <td>2016 ~ 2020</td>\n",
       "    </tr>\n",
       "    <tr>\n",
       "      <th>4</th>\n",
       "      <td>Vissel Kobe 2018 ~ 2021</td>\n",
       "      <td>Vissel Kobe</td>\n",
       "      <td>2018 ~ 2021</td>\n",
       "    </tr>\n",
       "    <tr>\n",
       "      <th>5</th>\n",
       "      <td>Alemannia Aachen 2011 ~ 2012</td>\n",
       "      <td>Alemannia Aachen</td>\n",
       "      <td>2011 ~ 2012</td>\n",
       "    </tr>\n",
       "  </tbody>\n",
       "</table>\n",
       "</div>"
      ],
      "text/plain": [
       "                Team & Contract               Team     Contract\n",
       "0           Udinese 2008 ~ 2016           Udinese   2008 ~ 2016\n",
       "1         KAS Eupen 2014 ~ 2019         KAS Eupen   2014 ~ 2019\n",
       "2     Coventry City 2016 ~ 2020     Coventry City   2016 ~ 2020\n",
       "4       Vissel Kobe 2018 ~ 2021       Vissel Kobe   2018 ~ 2021\n",
       "5  Alemannia Aachen 2011 ~ 2012  Alemannia Aachen   2011 ~ 2012"
      ]
     },
     "execution_count": 123,
     "metadata": {},
     "output_type": "execute_result"
    }
   ],
   "source": [
    "df['Team & Contract'].head()\n",
    "df[['Team','Contract']]=df['Team & Contract'].str.extract(r'^(.*?) (\\d{4} ~ \\d{4})$', expand=True)\n",
    "df[['Team & Contract','Team','Contract']].head()"
   ]
  },
  {
   "cell_type": "code",
   "execution_count": null,
   "id": "b7fb3ffd",
   "metadata": {},
   "outputs": [],
   "source": []
  }
 ],
 "metadata": {
  "kernelspec": {
   "display_name": "Python 3 (ipykernel)",
   "language": "python",
   "name": "python3"
  },
  "language_info": {
   "codemirror_mode": {
    "name": "ipython",
    "version": 3
   },
   "file_extension": ".py",
   "mimetype": "text/x-python",
   "name": "python",
   "nbconvert_exporter": "python",
   "pygments_lexer": "ipython3",
   "version": "3.11.4"
  }
 },
 "nbformat": 4,
 "nbformat_minor": 5
}
